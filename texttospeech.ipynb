{
 "cells": [
  {
   "cell_type": "code",
   "execution_count": 1,
   "metadata": {},
   "outputs": [],
   "source": [
    "#pip install pyttsx3   this library used to convert the text into speech"
   ]
  },
  {
   "cell_type": "code",
   "execution_count": 2,
   "metadata": {},
   "outputs": [],
   "source": [
    "import pyttsx3"
   ]
  },
  {
   "cell_type": "code",
   "execution_count": 3,
   "metadata": {},
   "outputs": [],
   "source": [
    "engine = pyttsx3.init()"
   ]
  },
  {
   "cell_type": "code",
   "execution_count": 4,
   "metadata": {},
   "outputs": [],
   "source": [
    "engine.say (\"this library used to convert the text into speech\")\n",
    "engine.runAndWait()"
   ]
  },
  {
   "cell_type": "code",
   "execution_count": 5,
   "metadata": {},
   "outputs": [
    {
     "name": "stdout",
     "output_type": "stream",
     "text": [
      "200\n",
      "1.0\n"
     ]
    }
   ],
   "source": [
    "import pyttsx3\n",
    "engine = pyttsx3.init() # object creation\n",
    "\n",
    "\"\"\" RATE\"\"\"\n",
    "rate = engine.getProperty('rate')   # getting details of current speaking rate\n",
    "print (rate)                        #printing current voice rate\n",
    "engine.setProperty('rate', 125)     # setting up new voice rate\n",
    "\n",
    "\n",
    "\"\"\"VOLUME\"\"\"\n",
    "volume = engine.getProperty('volume')   #getting to know current volume level (min=0 and max=1)\n",
    "print (volume)                          #printing current volume level\n",
    "engine.setProperty('volume',1.0)    # setting up volume level  between 0 and 1\n",
    "\n",
    "\"\"\"VOICE\"\"\"\n",
    "voices = engine.getProperty('voices')       #getting details of current voice\n",
    "#engine.setProperty('voice', voices[0].id)  #changing index, changes voices. o for male\n",
    "engine.setProperty('voice', voices[1].id)   #changing index, changes voices. 1 for female\n",
    "\n",
    "engine.say(\"Hello World!\")\n",
    "engine.say('My current speaking rate is ' + str(rate))\n",
    "engine.runAndWait()\n",
    "engine.stop()\n",
    "\n",
    "\"\"\"Saving Voice to a file\"\"\"\n",
    "# On linux make sure that 'espeak' and 'ffmpeg' are installed\n",
    "engine.save_to_file('Hello World', 'test.mp3')\n",
    "engine.runAndWait()"
   ]
  },
  {
   "cell_type": "code",
   "execution_count": 6,
   "metadata": {},
   "outputs": [
    {
     "name": "stdout",
     "output_type": "stream",
     "text": [
      "starting None\n",
      "word None 1 271350\n",
      "finishing None True\n"
     ]
    }
   ],
   "source": [
    "import pyttsx3\n",
    "def onStart(name):\n",
    "   print ('starting', name)\n",
    "def onWord(name, location, length):\n",
    "   print ('word', name, location, length)\n",
    "def onEnd(name, completed):\n",
    "   print ('finishing', name, completed)\n",
    "engine = pyttsx3.init()\n",
    "engine.connect('started-utterance', onStart)\n",
    "engine.connect('started-word', onWord)\n",
    "engine.connect('finished-utterance', onEnd)\n",
    "engine.say('The quick brown fox jumped over the lazy dog.')\n",
    "engine.runAndWait()"
   ]
  },
  {
   "cell_type": "code",
   "execution_count": 7,
   "metadata": {},
   "outputs": [
    {
     "name": "stdout",
     "output_type": "stream",
     "text": [
      "starting None\n",
      "word None 1 398870\n",
      "word None 1 398870\n",
      "finishing None True\n"
     ]
    }
   ],
   "source": [
    "import pyttsx3\n",
    "def onWord(name, location, length):\n",
    "   print ('word', name, location, length)\n",
    "   if location > 10:\n",
    "      engine.stop()\n",
    "engine = pyttsx3.init()\n",
    "engine.connect('started-word', onWord)\n",
    "engine.say('The quick brown fox jumped over the lazy dog.')\n",
    "engine.runAndWait()"
   ]
  },
  {
   "cell_type": "code",
   "execution_count": 8,
   "metadata": {},
   "outputs": [
    {
     "name": "stdout",
     "output_type": "stream",
     "text": [
      "starting None\n",
      "word None 1 526390\n",
      "word None 1 526390\n",
      "finishing None True\n",
      "starting None\n",
      "word None 1 657270\n",
      "word None 1 657270\n",
      "finishing None True\n"
     ]
    }
   ],
   "source": [
    "engine = pyttsx3.init()\n",
    "voices = engine.getProperty('voices')\n",
    "for voice in voices:\n",
    "   engine.setProperty('voice', voice.id)\n",
    "   engine.say('The quick brown fox jumped over the lazy dog.')\n",
    "engine.runAndWait()"
   ]
  },
  {
   "cell_type": "code",
   "execution_count": 9,
   "metadata": {},
   "outputs": [
    {
     "name": "stdout",
     "output_type": "stream",
     "text": [
      "starting fox\n",
      "starting fox\n",
      "word fox 1 784790\n",
      "word fox 1 784790\n",
      "word fox 1 784790\n",
      "finishing fox True\n",
      "finishing fox True\n",
      "starting dog\n",
      "starting dog\n",
      "word dog 1 912310\n",
      "word dog 1 912310\n",
      "word dog 1 912310\n",
      "finishing dog True\n",
      "finishing dog True\n"
     ]
    }
   ],
   "source": [
    "engine = pyttsx3.init()\n",
    "def onStart(name):\n",
    "   print ('starting', name)\n",
    "def onWord(name, location, length):\n",
    "   print ('word', name, location, length)\n",
    "def onEnd(name, completed):\n",
    "   print ('finishing', name, completed)\n",
    "   if name == 'fox':\n",
    "      engine.say('What a lazy dog!', 'dog')\n",
    "   elif name == 'dog':\n",
    "      engine.endLoop()\n",
    "engine = pyttsx3.init()\n",
    "engine.connect('started-utterance', onStart)\n",
    "engine.connect('started-word', onWord)\n",
    "engine.connect('finished-utterance', onEnd)\n",
    "engine.say('The quick brown fox jumped over the lazy dog.', 'fox')\n",
    "engine.startLoop()"
   ]
  },
  {
   "cell_type": "code",
   "execution_count": 11,
   "metadata": {},
   "outputs": [
    {
     "name": "stdout",
     "output_type": "stream",
     "text": [
      "2\n"
     ]
    }
   ],
   "source": [
    "voices = engine.getProperty('voices')       #getting details of current voice\n",
    "print(len(voices))"
   ]
  },
  {
   "cell_type": "code",
   "execution_count": 12,
   "metadata": {},
   "outputs": [
    {
     "name": "stdout",
     "output_type": "stream",
     "text": [
      "Number: 0\n",
      "Voice: Microsoft David Desktop - English (United States)\n",
      " - ID: HKEY_LOCAL_MACHINE\\SOFTWARE\\Microsoft\\Speech\\Voices\\Tokens\\TTS_MS_EN-US_DAVID_11.0\n",
      " - Languages: []\n",
      " - Gender: None\n",
      " - Age: None\n",
      "\n",
      "\n",
      "Number: 1\n",
      "Voice: Microsoft Zira Desktop - English (United States)\n",
      " - ID: HKEY_LOCAL_MACHINE\\SOFTWARE\\Microsoft\\Speech\\Voices\\Tokens\\TTS_MS_EN-US_ZIRA_11.0\n",
      " - Languages: []\n",
      " - Gender: None\n",
      " - Age: None\n",
      "\n",
      "\n"
     ]
    }
   ],
   "source": [
    "i=0\n",
    "for voice in voices:\n",
    "    print(\"Number:\",i)\n",
    "    print(\"Voice:\",voice.name)\n",
    "    print(\" - ID:\",voice.id)\n",
    "    print(\" - Languages:\",voice.languages)\n",
    "    print(\" - Gender:\",voice.gender)\n",
    "    print(\" - Age:\",voice.age)\n",
    "    print(\"\\n\")\n",
    "    i+=1"
   ]
  },
  {
   "cell_type": "code",
   "execution_count": 3,
   "metadata": {},
   "outputs": [],
   "source": [
    "import datetime"
   ]
  },
  {
   "cell_type": "code",
   "execution_count": null,
   "metadata": {},
   "outputs": [],
   "source": []
  },
  {
   "cell_type": "code",
   "execution_count": null,
   "metadata": {},
   "outputs": [],
   "source": []
  },
  {
   "cell_type": "code",
   "execution_count": 16,
   "metadata": {},
   "outputs": [],
   "source": [
    "\n",
    "import pyttsx3\n",
    "engine = pyttsx3.init()\n",
    "def speak (text):\n",
    "    engine.say (text)\n",
    "    engine.runAndWait()\n",
    "    \n",
    "def time ():\n",
    "    Time=datetime.datetime.now().strftime(\"%I:%M:%S\")\n",
    "    speak(\"The current time is:\")\n",
    "    speak (Time)\n",
    "\n",
    "time ()\n"
   ]
  },
  {
   "cell_type": "code",
   "execution_count": 18,
   "metadata": {},
   "outputs": [],
   "source": [
    "import gtts as gt\n",
    "import os"
   ]
  },
  {
   "cell_type": "code",
   "execution_count": null,
   "metadata": {},
   "outputs": [],
   "source": []
  }
 ],
 "metadata": {
  "kernelspec": {
   "display_name": "Python 3",
   "language": "python",
   "name": "python3"
  },
  "language_info": {
   "codemirror_mode": {
    "name": "ipython",
    "version": 3
   },
   "file_extension": ".py",
   "mimetype": "text/x-python",
   "name": "python",
   "nbconvert_exporter": "python",
   "pygments_lexer": "ipython3",
   "version": "3.12.3"
  }
 },
 "nbformat": 4,
 "nbformat_minor": 2
}
